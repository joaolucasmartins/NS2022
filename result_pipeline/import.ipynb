{
 "cells": [
  {
   "cell_type": "code",
   "execution_count": 30,
   "metadata": {},
   "outputs": [],
   "source": [
    "RES_DIR=\"../proj/simulations/results/\"\n",
    "CONFIG_NAME=RES_DIR+\"NonFrequentUpdates-#0\""
   ]
  },
  {
   "cell_type": "code",
   "execution_count": 32,
   "metadata": {},
   "outputs": [
    {
     "name": "stdout",
     "output_type": "stream",
     "text": [
      "opp_scavetool x ../proj/simulations/results/NonFrequentUpdates-#0.sca -o NFU_sca.csv\n",
      "opp_scavetool x ../proj/simulations/results/NonFrequentUpdates-#0.vci -o NFU_vci.csv\n",
      "opp_scavetool x ../proj/simulations/results/NonFrequentUpdates-#0.vec -o NFU_vec.csv\n"
     ]
    },
    {
     "name": "stdout",
     "output_type": "stream",
     "text": [
      "Exported 935 scalars, 2627 parameters, 2 statistics, 70 histograms\n"
     ]
    },
    {
     "name": "stderr",
     "output_type": "stream",
     "text": [
      "opp_scavetool: unrecognized line, file ../proj/simulations/results/NonFrequentUpdates-#0.vci, line 1\n"
     ]
    },
    {
     "name": "stdout",
     "output_type": "stream",
     "text": [
      "Exported 1480 vectors\n"
     ]
    }
   ],
   "source": [
    "import subprocess\n",
    "cmd = \"opp_scavetool x \" + CONFIG_NAME + \".{0} -o NFU_{0}.csv\"\n",
    "export_types = (\"sca\", \"vci\", \"vec\")\n",
    "for t in export_types:\n",
    "    print(cmd.format(t))\n",
    "    subprocess.Popen(cmd.format(t).split())"
   ]
  }
 ],
 "metadata": {
  "kernelspec": {
   "display_name": "Python 3.10.8 64-bit",
   "language": "python",
   "name": "python3"
  },
  "language_info": {
   "codemirror_mode": {
    "name": "ipython",
    "version": 3
   },
   "file_extension": ".py",
   "mimetype": "text/x-python",
   "name": "python",
   "nbconvert_exporter": "python",
   "pygments_lexer": "ipython3",
   "version": "3.10.8"
  },
  "orig_nbformat": 4,
  "vscode": {
   "interpreter": {
    "hash": "e7370f93d1d0cde622a1f8e1c04877d8463912d04d973331ad4851f04de6915a"
   }
  }
 },
 "nbformat": 4,
 "nbformat_minor": 2
}
