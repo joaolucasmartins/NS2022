{
 "cells": [
  {
   "cell_type": "code",
   "execution_count": 43,
   "metadata": {},
   "outputs": [],
   "source": [
    "RES_DIR=\"../proj/simulations/results/\"\n",
    "CONFIG_NAME=RES_DIR+\"NonFrequentUpdates-#0\""
   ]
  },
  {
   "cell_type": "code",
   "execution_count": 44,
   "metadata": {},
   "outputs": [
    {
     "name": "stdout",
     "output_type": "stream",
     "text": [
      "opp_scavetool x ../proj/simulations/results/NonFrequentUpdates-#0.sca -o NFU_sca.csv\n",
      "opp_scavetool x ../proj/simulations/results/NonFrequentUpdates-#0.vec -o NFU_vec.csv\n"
     ]
    },
    {
     "name": "stdout",
     "output_type": "stream",
     "text": [
      "Exported 935 scalars, 2625 parameters, 2 statistics, 70 histograms\n",
      "Exported 3112 vectors\n"
     ]
    }
   ],
   "source": [
    "import subprocess\n",
    "cmd = \"opp_scavetool x \" + CONFIG_NAME + \".{0} -o NFU_{0}.csv\"\n",
    "export_types = (\"sca\", \"vec\")\n",
    "for t in export_types:\n",
    "    print(cmd.format(t))\n",
    "    subprocess.Popen(cmd.format(t).split())"
   ]
  },
  {
   "cell_type": "markdown",
   "metadata": {},
   "source": [
    "## Metrics\n",
    "Bellow are the metrics that we want to choose the results:\n",
    "+ link layer throughput => eth mac txPk\n",
    "+ application layer throughput - => Load in routers (incomingDataRate)\n",
    "+ end to end delay? => Useful?\n",
    "+ request-response/communication latency\n",
    "+ link utilization => Use throughput and channel capacity TODO\n",
    "+ number of train updates that the server has received by simulation time=> Vector\n",
    "+ Number of train updates sent as a response to each client request. => Histogram + vector\n",
    "+ Number of train updates that were discarded per request as a result of being expired => Vector + hist\n"
   ]
  },
  {
   "cell_type": "code",
   "execution_count": 68,
   "metadata": {},
   "outputs": [],
   "source": [
    "import pandas as pd\n",
    "\n",
    "# Vectors - parse vec dataset\n",
    "linkLayerThroughput = lambda x: (x[\"name\"] == \"txPk:vector(packetBytes)\") & (x[\"type\"] == \"vector\")\n",
    "appLayerThroughput = lambda x: (x[\"name\"].str.contains(\"DataRate\")) & (x[\"type\"] == \"vector\") #  (x[\"module\"].str.contains(\"Router\")) => Use this to filter only router\n",
    "clientResponseDelay = lambda x: x[\"name\"] == \"timeToResponse\"\n",
    "serverSentTrainUpdates = lambda x: (x[\"name\"] == \"serverSentTrainUpdates\")\n",
    "serverDroppedTrainUpdates = lambda x: (x[\"name\"] == \"serverDroppedTrainUpdates\")\n",
    "serverReceivedTrainUpdates = lambda x: (x[\"name\"] == \"serverReceivedTrainUpdates\")\n",
    "vec_metrics = (linkLayerThroughput, appLayerThroughput, clientResponseDelay, serverSentTrainUpdates, serverDroppedTrainUpdates, serverReceivedTrainUpdates)\n",
    "\n",
    "# Histograms - parse sca dataset\n",
    "clientEndToEndDelay = lambda x: (x[\"name\"] == \"endToEndDelay:histogram\")  & (x[\"module\"].str.contains(\"client\")) & (x[\"type\"] == \"histogram\")\n",
    "#sca_metrics = (clientEndToEndDelay, trainEndToEndDelay)\n",
    "sca_metrics = [clientEndToEndDelay]\n",
    "\n",
    "# TODO Calculate link use per time\n",
    "sca = pd.read_csv(\"NFU_sca.csv\")\n",
    "vec = pd.read_csv(\"NFU_vec.csv\")\n",
    "# vec[linkLayerThroughput]\n",
    "#counts = sca[\"name\"].value_counts()\n",
    "#counts.to_csv('name.csv',index=True)\n"
   ]
  },
  {
   "cell_type": "code",
   "execution_count": 86,
   "metadata": {},
   "outputs": [],
   "source": [
    "# Filter original data\n",
    "def select_f(x, y):\n",
    "    res = False\n",
    "    for cond in y:\n",
    "        res = res | (cond(x))\n",
    "    return x[res]\n",
    "\n",
    "select_vec = select_f(vec, vec_metrics)\n",
    "select_sca = select_f(sca, sca_metrics)"
   ]
  },
  {
   "cell_type": "code",
   "execution_count": 87,
   "metadata": {},
   "outputs": [
    {
     "data": {
      "text/plain": [
       "(                                             run  \\\n",
       " 179  NonFrequentUpdates-0-20221208-21:22:50-7525   \n",
       " 197  NonFrequentUpdates-0-20221208-21:22:50-7525   \n",
       " 222  NonFrequentUpdates-0-20221208-21:22:50-7525   \n",
       " 257  NonFrequentUpdates-0-20221208-21:22:50-7525   \n",
       " 275  NonFrequentUpdates-0-20221208-21:22:50-7525   \n",
       " \n",
       "                                        module                      name  \\\n",
       " 179     MuenchenNetwork.train[1].eth[0].queue   incomingDataRate:vector   \n",
       " 197     MuenchenNetwork.train[1].eth[0].queue   outgoingDataRate:vector   \n",
       " 222       MuenchenNetwork.train[1].eth[0].mac  txPk:vector(packetBytes)   \n",
       " 257  MuenchenNetwork.trainRouter.eth[1].queue   incomingDataRate:vector   \n",
       " 275  MuenchenNetwork.trainRouter.eth[1].queue   outgoingDataRate:vector   \n",
       " \n",
       "                                                vectime  \\\n",
       " 179  0.1 0.2 0.3 0.4 0.5 0.6 0.7 0.8 0.9 1 1.1 1.2 ...   \n",
       " 197  0.1 0.2 0.3 0.4 0.5 0.6 0.7 0.8 0.9 1 1.1 1.2 ...   \n",
       " 222  6.307255452421 6.307275232421 16.060277853876 ...   \n",
       " 257  0.1 0.2 0.3 0.4 0.5 0.6 0.7 0.8 0.9 1 1.1 1.2 ...   \n",
       " 275  0.1 0.2 0.3 0.4 0.5 0.6 0.7 0.8 0.9 1 1.1 1.2 ...   \n",
       " \n",
       "                                               vecvalue  \n",
       " 179  0 0 0 0 0 0 0 0 0 0 0 0 0 0 0 0 0 0 0 0 0 0 0 ...  \n",
       " 197  0 0 0 0 0 0 0 0 0 0 0 0 0 0 0 0 0 0 0 0 0 0 0 ...  \n",
       " 222  64 166 166 166 166 166 166 166 166 166 166 64 ...  \n",
       " 257  0 0 0 0 0 0 0 0 0 0 0 0 0 0 0 0 0 0 0 0 0 0 0 ...  \n",
       " 275  0 0 0 0 0 0 0 0 0 0 0 0 0 0 0 0 0 0 0 0 0 0 0 ...  ,\n",
       "                                               run  \\\n",
       " 7439  NonFrequentUpdates-0-20221208-21:22:50-7525   \n",
       " 7476  NonFrequentUpdates-0-20221208-21:22:50-7525   \n",
       " 7513  NonFrequentUpdates-0-20221208-21:22:50-7525   \n",
       " \n",
       "                                 module                     name  count  \\\n",
       " 7439  MuenchenNetwork.client[0].app[0]  endToEndDelay:histogram  615.0   \n",
       " 7476  MuenchenNetwork.client[1].app[0]  endToEndDelay:histogram  587.0   \n",
       " 7513  MuenchenNetwork.client[2].app[0]  endToEndDelay:histogram  594.0   \n",
       " \n",
       "       sumweights      mean  stddev       min       max  \\\n",
       " 7439       615.0  0.000018     0.0  0.000018  0.000018   \n",
       " 7476       587.0  0.000018     0.0  0.000018  0.000018   \n",
       " 7513       594.0  0.000018     0.0  0.000018  0.000018   \n",
       " \n",
       "                                                binedges  \\\n",
       " 7439  0 0.01 0.02 0.03 0.04 0.05 0.06 0.07 0.08 0.09...   \n",
       " 7476  0 0.01 0.02 0.03 0.04 0.05 0.06 0.07 0.08 0.09...   \n",
       " 7513  0 0.01 0.02 0.03 0.04 0.05 0.06 0.07 0.08 0.09...   \n",
       " \n",
       "                                               binvalues  \n",
       " 7439  615 0 0 0 0 0 0 0 0 0 0 0 0 0 0 0 0 0 0 0 0 0 ...  \n",
       " 7476  587 0 0 0 0 0 0 0 0 0 0 0 0 0 0 0 0 0 0 0 0 0 ...  \n",
       " 7513  594 0 0 0 0 0 0 0 0 0 0 0 0 0 0 0 0 0 0 0 0 0 ...  )"
      ]
     },
     "execution_count": 87,
     "metadata": {},
     "output_type": "execute_result"
    }
   ],
   "source": [
    "if \"type\" in select_vec:\n",
    "    select_vec = select_vec.drop([\"type\", \"attrname\", \"attrvalue\"], axis=1)\n",
    "if \"type\" in select_sca:\n",
    "    select_sca = select_sca.drop([\"type\", \"attrname\", \"attrvalue\", \"value\", \"underflows\", \"overflows\"], axis=1)\n",
    "select_vec.head(), select_sca.head()"
   ]
  },
  {
   "cell_type": "code",
   "execution_count": null,
   "metadata": {},
   "outputs": [],
   "source": []
  }
 ],
 "metadata": {
  "kernelspec": {
   "display_name": "Python 3.10.8 64-bit",
   "language": "python",
   "name": "python3"
  },
  "language_info": {
   "codemirror_mode": {
    "name": "ipython",
    "version": 3
   },
   "file_extension": ".py",
   "mimetype": "text/x-python",
   "name": "python",
   "nbconvert_exporter": "python",
   "pygments_lexer": "ipython3",
   "version": "3.10.8"
  },
  "orig_nbformat": 4,
  "vscode": {
   "interpreter": {
    "hash": "e7370f93d1d0cde622a1f8e1c04877d8463912d04d973331ad4851f04de6915a"
   }
  }
 },
 "nbformat": 4,
 "nbformat_minor": 2
}
