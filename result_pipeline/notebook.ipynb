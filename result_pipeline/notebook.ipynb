{
 "cells": [
  {
   "cell_type": "markdown",
   "metadata": {},
   "source": [
    "# Pipeline\n",
    "This small notebook serves to describe the usage and implementation of the python scripts used by the pipeline. Each section shows the flow of each script's main function, in a way to illustrate how they work."
   ]
  },
  {
   "cell_type": "code",
   "execution_count": 1,
   "metadata": {},
   "outputs": [],
   "source": [
    "RES_DIR=\"../proj/simulations/results/\"\n",
    "CONFIG_NAME=\"NonFrequentUpdates-#0\""
   ]
  },
  {
   "cell_type": "markdown",
   "metadata": {},
   "source": [
    "These will be the results that will be used for this demonstration."
   ]
  },
  {
   "cell_type": "markdown",
   "metadata": {},
   "source": [
    "## Importing Data from Omnet\n",
    "The process of importing results from their `sca` and `vec` formats (straight from a simulation run) is done in the parseData script"
   ]
  },
  {
   "cell_type": "markdown",
   "metadata": {},
   "source": [
    "First, the script converts data to their csv format using `scavetool` and opens the csvs as dataframes."
   ]
  },
  {
   "cell_type": "code",
   "execution_count": 2,
   "metadata": {},
   "outputs": [
    {
     "name": "stdout",
     "output_type": "stream",
     "text": [
      "Exported 935 scalars, 2625 parameters, 2 statistics, 70 histograms\n",
      "Exported 3112 vectors\n"
     ]
    }
   ],
   "source": [
    "from parseData import convertToCsv, filterMetrics, openDatasets, saveCsv\n",
    "convertToCsv(RES_DIR, CONFIG_NAME)\n",
    "\n",
    "sca, vec = openDatasets(CONFIG_NAME)"
   ]
  },
  {
   "cell_type": "markdown",
   "metadata": {},
   "source": [
    "### Metrics\n",
    "Then, the scripts filters all data to select only the attributes that we deem relevant and want to analyze later.\n",
    "Bellow are the metrics that chose to filter:\n",
    "+ link layer throughput => eth mac txPk\n",
    "+ application layer throughput - => Load in routers (incomingDataRate)\n",
    "+ end to end delay? => Useful?\n",
    "+ request-response/communication latency\n",
    "+ link utilization => Use throughput and channel capacity TODO\n",
    "+ number of train updates that the server has received by simulation time=> Vector\n",
    "+ Number of train updates sent as a response to each client request. => Histogram + vector\n",
    "+ Number of train updates that were discarded per request as a result of being expired => Vector + hist\n",
    "\n",
    "We save this data to override the original csvs"
   ]
  },
  {
   "cell_type": "code",
   "execution_count": 3,
   "metadata": {},
   "outputs": [
    {
     "data": {
      "text/html": [
       "<div>\n",
       "<style scoped>\n",
       "    .dataframe tbody tr th:only-of-type {\n",
       "        vertical-align: middle;\n",
       "    }\n",
       "\n",
       "    .dataframe tbody tr th {\n",
       "        vertical-align: top;\n",
       "    }\n",
       "\n",
       "    .dataframe thead th {\n",
       "        text-align: right;\n",
       "    }\n",
       "</style>\n",
       "<table border=\"1\" class=\"dataframe\">\n",
       "  <thead>\n",
       "    <tr style=\"text-align: right;\">\n",
       "      <th></th>\n",
       "      <th>run</th>\n",
       "      <th>module</th>\n",
       "      <th>name</th>\n",
       "      <th>vectime</th>\n",
       "      <th>vecvalue</th>\n",
       "    </tr>\n",
       "  </thead>\n",
       "  <tbody>\n",
       "    <tr>\n",
       "      <th>179</th>\n",
       "      <td>NonFrequentUpdates-0-20221208-21:22:50-7525</td>\n",
       "      <td>MuenchenNetwork.train[1].eth[0].queue</td>\n",
       "      <td>incomingDataRate:vector</td>\n",
       "      <td>0.1 0.2 0.3 0.4 0.5 0.6 0.7 0.8 0.9 1 1.1 1.2 ...</td>\n",
       "      <td>0 0 0 0 0 0 0 0 0 0 0 0 0 0 0 0 0 0 0 0 0 0 0 ...</td>\n",
       "    </tr>\n",
       "    <tr>\n",
       "      <th>197</th>\n",
       "      <td>NonFrequentUpdates-0-20221208-21:22:50-7525</td>\n",
       "      <td>MuenchenNetwork.train[1].eth[0].queue</td>\n",
       "      <td>outgoingDataRate:vector</td>\n",
       "      <td>0.1 0.2 0.3 0.4 0.5 0.6 0.7 0.8 0.9 1 1.1 1.2 ...</td>\n",
       "      <td>0 0 0 0 0 0 0 0 0 0 0 0 0 0 0 0 0 0 0 0 0 0 0 ...</td>\n",
       "    </tr>\n",
       "    <tr>\n",
       "      <th>222</th>\n",
       "      <td>NonFrequentUpdates-0-20221208-21:22:50-7525</td>\n",
       "      <td>MuenchenNetwork.train[1].eth[0].mac</td>\n",
       "      <td>txPk:vector(packetBytes)</td>\n",
       "      <td>6.307255452421 6.307275232421 16.060277853876 ...</td>\n",
       "      <td>64 166 166 166 166 166 166 166 166 166 166 64 ...</td>\n",
       "    </tr>\n",
       "    <tr>\n",
       "      <th>257</th>\n",
       "      <td>NonFrequentUpdates-0-20221208-21:22:50-7525</td>\n",
       "      <td>MuenchenNetwork.trainRouter.eth[1].queue</td>\n",
       "      <td>incomingDataRate:vector</td>\n",
       "      <td>0.1 0.2 0.3 0.4 0.5 0.6 0.7 0.8 0.9 1 1.1 1.2 ...</td>\n",
       "      <td>0 0 0 0 0 0 0 0 0 0 0 0 0 0 0 0 0 0 0 0 0 0 0 ...</td>\n",
       "    </tr>\n",
       "    <tr>\n",
       "      <th>275</th>\n",
       "      <td>NonFrequentUpdates-0-20221208-21:22:50-7525</td>\n",
       "      <td>MuenchenNetwork.trainRouter.eth[1].queue</td>\n",
       "      <td>outgoingDataRate:vector</td>\n",
       "      <td>0.1 0.2 0.3 0.4 0.5 0.6 0.7 0.8 0.9 1 1.1 1.2 ...</td>\n",
       "      <td>0 0 0 0 0 0 0 0 0 0 0 0 0 0 0 0 0 0 0 0 0 0 0 ...</td>\n",
       "    </tr>\n",
       "  </tbody>\n",
       "</table>\n",
       "</div>"
      ],
      "text/plain": [
       "                                             run  \\\n",
       "179  NonFrequentUpdates-0-20221208-21:22:50-7525   \n",
       "197  NonFrequentUpdates-0-20221208-21:22:50-7525   \n",
       "222  NonFrequentUpdates-0-20221208-21:22:50-7525   \n",
       "257  NonFrequentUpdates-0-20221208-21:22:50-7525   \n",
       "275  NonFrequentUpdates-0-20221208-21:22:50-7525   \n",
       "\n",
       "                                       module                      name  \\\n",
       "179     MuenchenNetwork.train[1].eth[0].queue   incomingDataRate:vector   \n",
       "197     MuenchenNetwork.train[1].eth[0].queue   outgoingDataRate:vector   \n",
       "222       MuenchenNetwork.train[1].eth[0].mac  txPk:vector(packetBytes)   \n",
       "257  MuenchenNetwork.trainRouter.eth[1].queue   incomingDataRate:vector   \n",
       "275  MuenchenNetwork.trainRouter.eth[1].queue   outgoingDataRate:vector   \n",
       "\n",
       "                                               vectime  \\\n",
       "179  0.1 0.2 0.3 0.4 0.5 0.6 0.7 0.8 0.9 1 1.1 1.2 ...   \n",
       "197  0.1 0.2 0.3 0.4 0.5 0.6 0.7 0.8 0.9 1 1.1 1.2 ...   \n",
       "222  6.307255452421 6.307275232421 16.060277853876 ...   \n",
       "257  0.1 0.2 0.3 0.4 0.5 0.6 0.7 0.8 0.9 1 1.1 1.2 ...   \n",
       "275  0.1 0.2 0.3 0.4 0.5 0.6 0.7 0.8 0.9 1 1.1 1.2 ...   \n",
       "\n",
       "                                              vecvalue  \n",
       "179  0 0 0 0 0 0 0 0 0 0 0 0 0 0 0 0 0 0 0 0 0 0 0 ...  \n",
       "197  0 0 0 0 0 0 0 0 0 0 0 0 0 0 0 0 0 0 0 0 0 0 0 ...  \n",
       "222  64 166 166 166 166 166 166 166 166 166 166 64 ...  \n",
       "257  0 0 0 0 0 0 0 0 0 0 0 0 0 0 0 0 0 0 0 0 0 0 0 ...  \n",
       "275  0 0 0 0 0 0 0 0 0 0 0 0 0 0 0 0 0 0 0 0 0 0 0 ...  "
      ]
     },
     "execution_count": 3,
     "metadata": {},
     "output_type": "execute_result"
    }
   ],
   "source": [
    "import pandas as pd\n",
    "# The values bellow are replicated to parseData, to change the scripts go there instead\n",
    "# Vectors - parse vec dataset\n",
    "linkLayerThroughput = lambda x: (x[\"name\"] == \"txPk:vector(packetBytes)\") & (x[\"type\"] == \"vector\")\n",
    "appLayerThroughput = lambda x: (x[\"name\"].str.contains(\"DataRate\")) & (x[\"type\"] == \"vector\") #  (x[\"module\"].str.contains(\"Router\")) => Use this to filter only router\n",
    "clientResponseDelay = lambda x: x[\"name\"] == \"timeToResponse\"\n",
    "serverSentTrainUpdates = lambda x: (x[\"name\"] == \"serverSentTrainUpdates\")\n",
    "serverDroppedTrainUpdates = lambda x: (x[\"name\"] == \"serverDroppedTrainUpdates\")\n",
    "serverReceivedTrainUpdates = lambda x: (x[\"name\"] == \"serverReceivedTrainUpdates\")\n",
    "vec_metrics = (linkLayerThroughput, appLayerThroughput, clientResponseDelay, serverSentTrainUpdates, serverDroppedTrainUpdates, serverReceivedTrainUpdates)\n",
    "\n",
    "# Histograms - parse sca dataset\n",
    "clientEndToEndDelay = lambda x: (x[\"name\"] == \"endToEndDelay:histogram\")  & (x[\"module\"].str.contains(\"client\")) & (x[\"type\"] == \"histogram\")\n",
    "#sca_metrics = (clientEndToEndDelay, trainEndToEndDelay)\n",
    "sca_metrics = [clientEndToEndDelay]\n",
    "\n",
    "# vec[linkLayerThroughput]\n",
    "#counts = sca[\"name\"].value_counts()\n",
    "#counts.to_csv('name.csv',index=True)\n",
    "\n",
    "# Filter metrics only selects the values above\n",
    "sca, vec = filterMetrics(sca, vec)\n",
    "saveCsv(sca, vec, CONFIG_NAME)\n",
    "sca.head(5)\n"
   ]
  },
  {
   "cell_type": "markdown",
   "metadata": {},
   "source": [
    "## Evaluate Results\n",
    "This script uses the data produced in the previous step to generate statistics and results to be analyzed later using plots or tables."
   ]
  },
  {
   "cell_type": "markdown",
   "metadata": {},
   "source": [
    "TODO: Definir o que raio queremos medir em cada simulação"
   ]
  }
 ],
 "metadata": {
  "kernelspec": {
   "display_name": "Python 3.10.8 64-bit",
   "language": "python",
   "name": "python3"
  },
  "language_info": {
   "codemirror_mode": {
    "name": "ipython",
    "version": 3
   },
   "file_extension": ".py",
   "mimetype": "text/x-python",
   "name": "python",
   "nbconvert_exporter": "python",
   "pygments_lexer": "ipython3",
   "version": "3.10.8"
  },
  "orig_nbformat": 4,
  "vscode": {
   "interpreter": {
    "hash": "e7370f93d1d0cde622a1f8e1c04877d8463912d04d973331ad4851f04de6915a"
   }
  }
 },
 "nbformat": 4,
 "nbformat_minor": 2
}
