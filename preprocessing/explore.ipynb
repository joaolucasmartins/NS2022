{
 "cells": [
  {
   "cell_type": "code",
   "execution_count": 1,
   "metadata": {},
   "outputs": [],
   "source": [
    "import pandas as pd\n",
    "import numpy as np\n",
    "import matplotlib.pyplot as plt\n",
    "\n",
    "import os\n",
    "import os.path\n",
    "import shutil\n",
    "SRC_DIR = 'original'\n",
    "DEST_DIR = 'muenchen'\n",
    "\n",
    "%matplotlib inline\n",
    "# plt.style.use('seaborn')"
   ]
  },
  {
   "cell_type": "code",
   "execution_count": 2,
   "metadata": {},
   "outputs": [],
   "source": [
    "routes_cols = {\n",
    "    'route_long_name': str,\n",
    "    'route_short_name': str,\n",
    "    'agency_id': np.int64,\n",
    "    'route_type': np.int64,\n",
    "    'route_id': np.int64\n",
    "}\n",
    "routes = pd.read_csv(os.path.join(SRC_DIR, 'routes.txt'), dtype=routes_cols)"
   ]
  },
  {
   "cell_type": "code",
   "execution_count": 3,
   "metadata": {},
   "outputs": [],
   "source": [
    "trips_cols = {\n",
    "    'route_id': np.int64,\n",
    "    'service_id': np.int64,\n",
    "    'direction_id': np.int64,\n",
    "    'trip_id': np.int64\n",
    "}\n",
    "trips = pd.read_csv(os.path.join(SRC_DIR, 'trips.txt'), dtype=trips_cols)"
   ]
  },
  {
   "cell_type": "code",
   "execution_count": 4,
   "metadata": {},
   "outputs": [],
   "source": [
    "agency_cols = {\n",
    "    'agency_id': np.int64,\n",
    "    'agency_name': str,\n",
    "    'agency_url': str,\n",
    "    'agency_timezone': str,\n",
    "    'agency_lang': str\n",
    "}\n",
    "agency = pd.read_csv(os.path.join(SRC_DIR, 'agency.txt'), dtype=agency_cols)"
   ]
  },
  {
   "cell_type": "code",
   "execution_count": 5,
   "metadata": {},
   "outputs": [],
   "source": [
    "stops_cols = {\n",
    "    'stop_name': str,\n",
    "    'stop_id': np.int64,\n",
    "    'stop_lat': np.float64,\n",
    "    'stop_lon': np.float64\n",
    "}\n",
    "stops = pd.read_csv(os.path.join(SRC_DIR, 'stops.txt'), dtype=stops_cols)"
   ]
  },
  {
   "cell_type": "code",
   "execution_count": 6,
   "metadata": {},
   "outputs": [],
   "source": [
    "stop_times_cols = {\n",
    "    'trip_id': np.int64,\n",
    "    'arrival_time': str,\n",
    "    'departure_time': str,\n",
    "    'stop_id': np.int64,\n",
    "    'stop_sequence': np.int64,\n",
    "    'pickup_type': np.float64,\n",
    "    'drop_off_type': np.float64\n",
    "}\n",
    "stop_times = pd.read_csv(os.path.join(SRC_DIR, 'stop_times.txt'), dtype=stop_times_cols)"
   ]
  },
  {
   "cell_type": "code",
   "execution_count": 7,
   "metadata": {},
   "outputs": [
    {
     "data": {
      "text/html": [
       "<div>\n",
       "<style scoped>\n",
       "    .dataframe tbody tr th:only-of-type {\n",
       "        vertical-align: middle;\n",
       "    }\n",
       "\n",
       "    .dataframe tbody tr th {\n",
       "        vertical-align: top;\n",
       "    }\n",
       "\n",
       "    .dataframe thead th {\n",
       "        text-align: right;\n",
       "    }\n",
       "</style>\n",
       "<table border=\"1\" class=\"dataframe\">\n",
       "  <thead>\n",
       "    <tr style=\"text-align: right;\">\n",
       "      <th></th>\n",
       "      <th>agency_id</th>\n",
       "      <th>agency_name</th>\n",
       "      <th>agency_url</th>\n",
       "      <th>agency_timezone</th>\n",
       "      <th>agency_lang</th>\n",
       "    </tr>\n",
       "  </thead>\n",
       "  <tbody>\n",
       "    <tr>\n",
       "      <th>86</th>\n",
       "      <td>73</td>\n",
       "      <td>DB Regio AG Bayern</td>\n",
       "      <td>https://www.bahn.de</td>\n",
       "      <td>Europe/Berlin</td>\n",
       "      <td>de</td>\n",
       "    </tr>\n",
       "  </tbody>\n",
       "</table>\n",
       "</div>"
      ],
      "text/plain": [
       "    agency_id         agency_name           agency_url agency_timezone  \\\n",
       "86         73  DB Regio AG Bayern  https://www.bahn.de   Europe/Berlin   \n",
       "\n",
       "   agency_lang  \n",
       "86          de  "
      ]
     },
     "execution_count": 7,
     "metadata": {},
     "output_type": "execute_result"
    }
   ],
   "source": [
    "agency[agency['agency_id'] == 73]"
   ]
  },
  {
   "cell_type": "code",
   "execution_count": 8,
   "metadata": {},
   "outputs": [
    {
     "data": {
      "text/html": [
       "<div>\n",
       "<style scoped>\n",
       "    .dataframe tbody tr th:only-of-type {\n",
       "        vertical-align: middle;\n",
       "    }\n",
       "\n",
       "    .dataframe tbody tr th {\n",
       "        vertical-align: top;\n",
       "    }\n",
       "\n",
       "    .dataframe thead th {\n",
       "        text-align: right;\n",
       "    }\n",
       "</style>\n",
       "<table border=\"1\" class=\"dataframe\">\n",
       "  <thead>\n",
       "    <tr style=\"text-align: right;\">\n",
       "      <th></th>\n",
       "      <th>route_long_name</th>\n",
       "      <th>route_short_name</th>\n",
       "      <th>agency_id</th>\n",
       "      <th>route_type</th>\n",
       "      <th>route_id</th>\n",
       "    </tr>\n",
       "  </thead>\n",
       "  <tbody>\n",
       "    <tr>\n",
       "      <th>773</th>\n",
       "      <td>S1</td>\n",
       "      <td>S1</td>\n",
       "      <td>73</td>\n",
       "      <td>2</td>\n",
       "      <td>134</td>\n",
       "    </tr>\n",
       "    <tr>\n",
       "      <th>794</th>\n",
       "      <td>S2</td>\n",
       "      <td>S2</td>\n",
       "      <td>73</td>\n",
       "      <td>2</td>\n",
       "      <td>94</td>\n",
       "    </tr>\n",
       "    <tr>\n",
       "      <th>797</th>\n",
       "      <td>S20</td>\n",
       "      <td>S20</td>\n",
       "      <td>73</td>\n",
       "      <td>2</td>\n",
       "      <td>773</td>\n",
       "    </tr>\n",
       "    <tr>\n",
       "      <th>811</th>\n",
       "      <td>S3</td>\n",
       "      <td>S3</td>\n",
       "      <td>73</td>\n",
       "      <td>2</td>\n",
       "      <td>135</td>\n",
       "    </tr>\n",
       "    <tr>\n",
       "      <th>825</th>\n",
       "      <td>S4</td>\n",
       "      <td>S4</td>\n",
       "      <td>73</td>\n",
       "      <td>2</td>\n",
       "      <td>132</td>\n",
       "    </tr>\n",
       "    <tr>\n",
       "      <th>858</th>\n",
       "      <td>S6</td>\n",
       "      <td>S6</td>\n",
       "      <td>73</td>\n",
       "      <td>2</td>\n",
       "      <td>34</td>\n",
       "    </tr>\n",
       "    <tr>\n",
       "      <th>871</th>\n",
       "      <td>S7</td>\n",
       "      <td>S7</td>\n",
       "      <td>73</td>\n",
       "      <td>2</td>\n",
       "      <td>105</td>\n",
       "    </tr>\n",
       "    <tr>\n",
       "      <th>880</th>\n",
       "      <td>S8</td>\n",
       "      <td>S8</td>\n",
       "      <td>73</td>\n",
       "      <td>2</td>\n",
       "      <td>11</td>\n",
       "    </tr>\n",
       "  </tbody>\n",
       "</table>\n",
       "</div>"
      ],
      "text/plain": [
       "    route_long_name route_short_name  agency_id  route_type  route_id\n",
       "773              S1               S1         73           2       134\n",
       "794              S2               S2         73           2        94\n",
       "797             S20              S20         73           2       773\n",
       "811              S3               S3         73           2       135\n",
       "825              S4               S4         73           2       132\n",
       "858              S6               S6         73           2        34\n",
       "871              S7               S7         73           2       105\n",
       "880              S8               S8         73           2        11"
      ]
     },
     "execution_count": 8,
     "metadata": {},
     "output_type": "execute_result"
    }
   ],
   "source": [
    "routes_sbahn = routes.loc[\n",
    "    (routes['agency_id'] == 73) &\n",
    "    (routes['route_long_name'].str.startswith('S')) &\n",
    "    ~(routes['route_long_name'].str.fullmatch('S60')) &\n",
    "    ~(routes['route_long_name'].str.fullmatch('S5'))\n",
    "]\n",
    "del routes\n",
    "routes_sbahn"
   ]
  },
  {
   "cell_type": "code",
   "execution_count": 9,
   "metadata": {},
   "outputs": [],
   "source": [
    "calendar_cols = {\n",
    "    'monday': np.int64,\n",
    "    'tuesday': np.int64,\n",
    "    'wednesday': np.int64,\n",
    "    'thursday': np.int64,\n",
    "    'friday': np.int64,\n",
    "    'saturday': np.int64,\n",
    "    'sunday': np.int64,\n",
    "    'start_date': np.int64,\n",
    "    'end_date': np.int64,\n",
    "    'service_id': np.int64\n",
    "}\n",
    "calendar = pd.read_csv(os.path.join(SRC_DIR, 'calendar.txt'), dtype=calendar_cols)"
   ]
  },
  {
   "cell_type": "code",
   "execution_count": 10,
   "metadata": {},
   "outputs": [
    {
     "data": {
      "text/html": [
       "<div>\n",
       "<style scoped>\n",
       "    .dataframe tbody tr th:only-of-type {\n",
       "        vertical-align: middle;\n",
       "    }\n",
       "\n",
       "    .dataframe tbody tr th {\n",
       "        vertical-align: top;\n",
       "    }\n",
       "\n",
       "    .dataframe thead th {\n",
       "        text-align: right;\n",
       "    }\n",
       "</style>\n",
       "<table border=\"1\" class=\"dataframe\">\n",
       "  <thead>\n",
       "    <tr style=\"text-align: right;\">\n",
       "      <th></th>\n",
       "      <th>route_id</th>\n",
       "      <th>service_id</th>\n",
       "      <th>direction_id</th>\n",
       "      <th>trip_id</th>\n",
       "    </tr>\n",
       "  </thead>\n",
       "  <tbody>\n",
       "    <tr>\n",
       "      <th>0</th>\n",
       "      <td>134</td>\n",
       "      <td>100</td>\n",
       "      <td>0</td>\n",
       "      <td>10678</td>\n",
       "    </tr>\n",
       "    <tr>\n",
       "      <th>1</th>\n",
       "      <td>134</td>\n",
       "      <td>100</td>\n",
       "      <td>0</td>\n",
       "      <td>11996</td>\n",
       "    </tr>\n",
       "    <tr>\n",
       "      <th>2</th>\n",
       "      <td>134</td>\n",
       "      <td>100</td>\n",
       "      <td>0</td>\n",
       "      <td>12411</td>\n",
       "    </tr>\n",
       "    <tr>\n",
       "      <th>3</th>\n",
       "      <td>134</td>\n",
       "      <td>100</td>\n",
       "      <td>0</td>\n",
       "      <td>12826</td>\n",
       "    </tr>\n",
       "    <tr>\n",
       "      <th>4</th>\n",
       "      <td>134</td>\n",
       "      <td>100</td>\n",
       "      <td>0</td>\n",
       "      <td>13608</td>\n",
       "    </tr>\n",
       "    <tr>\n",
       "      <th>...</th>\n",
       "      <td>...</td>\n",
       "      <td>...</td>\n",
       "      <td>...</td>\n",
       "      <td>...</td>\n",
       "    </tr>\n",
       "    <tr>\n",
       "      <th>4318</th>\n",
       "      <td>11</td>\n",
       "      <td>98</td>\n",
       "      <td>0</td>\n",
       "      <td>35196</td>\n",
       "    </tr>\n",
       "    <tr>\n",
       "      <th>4319</th>\n",
       "      <td>11</td>\n",
       "      <td>98</td>\n",
       "      <td>0</td>\n",
       "      <td>35862</td>\n",
       "    </tr>\n",
       "    <tr>\n",
       "      <th>4320</th>\n",
       "      <td>11</td>\n",
       "      <td>98</td>\n",
       "      <td>0</td>\n",
       "      <td>42906</td>\n",
       "    </tr>\n",
       "    <tr>\n",
       "      <th>4321</th>\n",
       "      <td>11</td>\n",
       "      <td>98</td>\n",
       "      <td>0</td>\n",
       "      <td>67467</td>\n",
       "    </tr>\n",
       "    <tr>\n",
       "      <th>4322</th>\n",
       "      <td>11</td>\n",
       "      <td>98</td>\n",
       "      <td>0</td>\n",
       "      <td>70929</td>\n",
       "    </tr>\n",
       "  </tbody>\n",
       "</table>\n",
       "<p>4323 rows × 4 columns</p>\n",
       "</div>"
      ],
      "text/plain": [
       "      route_id  service_id  direction_id  trip_id\n",
       "0          134         100             0    10678\n",
       "1          134         100             0    11996\n",
       "2          134         100             0    12411\n",
       "3          134         100             0    12826\n",
       "4          134         100             0    13608\n",
       "...        ...         ...           ...      ...\n",
       "4318        11          98             0    35196\n",
       "4319        11          98             0    35862\n",
       "4320        11          98             0    42906\n",
       "4321        11          98             0    67467\n",
       "4322        11          98             0    70929\n",
       "\n",
       "[4323 rows x 4 columns]"
      ]
     },
     "execution_count": 10,
     "metadata": {},
     "output_type": "execute_result"
    }
   ],
   "source": [
    "trips_sbahn = pd.merge(routes_sbahn.loc[:, 'route_id'], trips, on='route_id', how='inner')\n",
    "del trips\n",
    "trips_sbahn"
   ]
  },
  {
   "cell_type": "code",
   "execution_count": 11,
   "metadata": {},
   "outputs": [
    {
     "data": {
      "text/html": [
       "<div>\n",
       "<style scoped>\n",
       "    .dataframe tbody tr th:only-of-type {\n",
       "        vertical-align: middle;\n",
       "    }\n",
       "\n",
       "    .dataframe tbody tr th {\n",
       "        vertical-align: top;\n",
       "    }\n",
       "\n",
       "    .dataframe thead th {\n",
       "        text-align: right;\n",
       "    }\n",
       "</style>\n",
       "<table border=\"1\" class=\"dataframe\">\n",
       "  <thead>\n",
       "    <tr style=\"text-align: right;\">\n",
       "      <th></th>\n",
       "      <th>trip_id</th>\n",
       "      <th>arrival_time</th>\n",
       "      <th>departure_time</th>\n",
       "      <th>stop_id</th>\n",
       "      <th>stop_sequence</th>\n",
       "      <th>pickup_type</th>\n",
       "      <th>drop_off_type</th>\n",
       "    </tr>\n",
       "  </thead>\n",
       "  <tbody>\n",
       "    <tr>\n",
       "      <th>0</th>\n",
       "      <td>10678</td>\n",
       "      <td>16:51:00</td>\n",
       "      <td>16:51:00</td>\n",
       "      <td>972</td>\n",
       "      <td>0</td>\n",
       "      <td>NaN</td>\n",
       "      <td>NaN</td>\n",
       "    </tr>\n",
       "    <tr>\n",
       "      <th>1</th>\n",
       "      <td>10678</td>\n",
       "      <td>16:52:00</td>\n",
       "      <td>16:53:00</td>\n",
       "      <td>13903</td>\n",
       "      <td>1</td>\n",
       "      <td>NaN</td>\n",
       "      <td>NaN</td>\n",
       "    </tr>\n",
       "    <tr>\n",
       "      <th>2</th>\n",
       "      <td>10678</td>\n",
       "      <td>16:59:00</td>\n",
       "      <td>17:04:00</td>\n",
       "      <td>9080</td>\n",
       "      <td>2</td>\n",
       "      <td>NaN</td>\n",
       "      <td>NaN</td>\n",
       "    </tr>\n",
       "    <tr>\n",
       "      <th>3</th>\n",
       "      <td>10678</td>\n",
       "      <td>17:07:00</td>\n",
       "      <td>17:07:00</td>\n",
       "      <td>1576</td>\n",
       "      <td>3</td>\n",
       "      <td>NaN</td>\n",
       "      <td>NaN</td>\n",
       "    </tr>\n",
       "    <tr>\n",
       "      <th>4</th>\n",
       "      <td>10678</td>\n",
       "      <td>17:10:00</td>\n",
       "      <td>17:10:00</td>\n",
       "      <td>3263</td>\n",
       "      <td>4</td>\n",
       "      <td>NaN</td>\n",
       "      <td>NaN</td>\n",
       "    </tr>\n",
       "    <tr>\n",
       "      <th>...</th>\n",
       "      <td>...</td>\n",
       "      <td>...</td>\n",
       "      <td>...</td>\n",
       "      <td>...</td>\n",
       "      <td>...</td>\n",
       "      <td>...</td>\n",
       "      <td>...</td>\n",
       "    </tr>\n",
       "    <tr>\n",
       "      <th>79170</th>\n",
       "      <td>70929</td>\n",
       "      <td>22:16:00</td>\n",
       "      <td>22:17:00</td>\n",
       "      <td>13692</td>\n",
       "      <td>18</td>\n",
       "      <td>NaN</td>\n",
       "      <td>NaN</td>\n",
       "    </tr>\n",
       "    <tr>\n",
       "      <th>79171</th>\n",
       "      <td>70929</td>\n",
       "      <td>22:18:00</td>\n",
       "      <td>22:19:00</td>\n",
       "      <td>13337</td>\n",
       "      <td>19</td>\n",
       "      <td>NaN</td>\n",
       "      <td>NaN</td>\n",
       "    </tr>\n",
       "    <tr>\n",
       "      <th>79172</th>\n",
       "      <td>70929</td>\n",
       "      <td>22:20:00</td>\n",
       "      <td>22:20:00</td>\n",
       "      <td>5508</td>\n",
       "      <td>20</td>\n",
       "      <td>NaN</td>\n",
       "      <td>NaN</td>\n",
       "    </tr>\n",
       "    <tr>\n",
       "      <th>79173</th>\n",
       "      <td>70929</td>\n",
       "      <td>22:22:00</td>\n",
       "      <td>22:22:00</td>\n",
       "      <td>8257</td>\n",
       "      <td>21</td>\n",
       "      <td>NaN</td>\n",
       "      <td>NaN</td>\n",
       "    </tr>\n",
       "    <tr>\n",
       "      <th>79174</th>\n",
       "      <td>70929</td>\n",
       "      <td>22:24:00</td>\n",
       "      <td>22:24:00</td>\n",
       "      <td>2240</td>\n",
       "      <td>22</td>\n",
       "      <td>NaN</td>\n",
       "      <td>NaN</td>\n",
       "    </tr>\n",
       "  </tbody>\n",
       "</table>\n",
       "<p>79175 rows × 7 columns</p>\n",
       "</div>"
      ],
      "text/plain": [
       "       trip_id arrival_time departure_time  stop_id  stop_sequence  \\\n",
       "0        10678     16:51:00       16:51:00      972              0   \n",
       "1        10678     16:52:00       16:53:00    13903              1   \n",
       "2        10678     16:59:00       17:04:00     9080              2   \n",
       "3        10678     17:07:00       17:07:00     1576              3   \n",
       "4        10678     17:10:00       17:10:00     3263              4   \n",
       "...        ...          ...            ...      ...            ...   \n",
       "79170    70929     22:16:00       22:17:00    13692             18   \n",
       "79171    70929     22:18:00       22:19:00    13337             19   \n",
       "79172    70929     22:20:00       22:20:00     5508             20   \n",
       "79173    70929     22:22:00       22:22:00     8257             21   \n",
       "79174    70929     22:24:00       22:24:00     2240             22   \n",
       "\n",
       "       pickup_type  drop_off_type  \n",
       "0              NaN            NaN  \n",
       "1              NaN            NaN  \n",
       "2              NaN            NaN  \n",
       "3              NaN            NaN  \n",
       "4              NaN            NaN  \n",
       "...            ...            ...  \n",
       "79170          NaN            NaN  \n",
       "79171          NaN            NaN  \n",
       "79172          NaN            NaN  \n",
       "79173          NaN            NaN  \n",
       "79174          NaN            NaN  \n",
       "\n",
       "[79175 rows x 7 columns]"
      ]
     },
     "execution_count": 11,
     "metadata": {},
     "output_type": "execute_result"
    }
   ],
   "source": [
    "stop_times_sbahn = pd.merge(trips_sbahn.loc[:, 'trip_id'], stop_times, on='trip_id', how='inner')\n",
    "del stop_times\n",
    "stop_times_sbahn"
   ]
  },
  {
   "cell_type": "code",
   "execution_count": 12,
   "metadata": {},
   "outputs": [
    {
     "data": {
      "text/html": [
       "<div>\n",
       "<style scoped>\n",
       "    .dataframe tbody tr th:only-of-type {\n",
       "        vertical-align: middle;\n",
       "    }\n",
       "\n",
       "    .dataframe tbody tr th {\n",
       "        vertical-align: top;\n",
       "    }\n",
       "\n",
       "    .dataframe thead th {\n",
       "        text-align: right;\n",
       "    }\n",
       "</style>\n",
       "<table border=\"1\" class=\"dataframe\">\n",
       "  <thead>\n",
       "    <tr style=\"text-align: right;\">\n",
       "      <th></th>\n",
       "      <th>stop_id</th>\n",
       "      <th>stop_name</th>\n",
       "      <th>stop_lat</th>\n",
       "      <th>stop_lon</th>\n",
       "    </tr>\n",
       "  </thead>\n",
       "  <tbody>\n",
       "    <tr>\n",
       "      <th>0</th>\n",
       "      <td>972</td>\n",
       "      <td>München Flughafen Terminal</td>\n",
       "      <td>48.353840</td>\n",
       "      <td>11.786310</td>\n",
       "    </tr>\n",
       "    <tr>\n",
       "      <th>1</th>\n",
       "      <td>13903</td>\n",
       "      <td>München Flughafen Besucherpark</td>\n",
       "      <td>48.352177</td>\n",
       "      <td>11.764157</td>\n",
       "    </tr>\n",
       "    <tr>\n",
       "      <th>2</th>\n",
       "      <td>9080</td>\n",
       "      <td>Neufahrn(b Freising)</td>\n",
       "      <td>48.321840</td>\n",
       "      <td>11.661408</td>\n",
       "    </tr>\n",
       "    <tr>\n",
       "      <th>3</th>\n",
       "      <td>1576</td>\n",
       "      <td>Eching</td>\n",
       "      <td>48.302876</td>\n",
       "      <td>11.616555</td>\n",
       "    </tr>\n",
       "    <tr>\n",
       "      <th>4</th>\n",
       "      <td>3263</td>\n",
       "      <td>Lohhof</td>\n",
       "      <td>48.288300</td>\n",
       "      <td>11.581206</td>\n",
       "    </tr>\n",
       "    <tr>\n",
       "      <th>...</th>\n",
       "      <td>...</td>\n",
       "      <td>...</td>\n",
       "      <td>...</td>\n",
       "      <td>...</td>\n",
       "    </tr>\n",
       "    <tr>\n",
       "      <th>653</th>\n",
       "      <td>7152</td>\n",
       "      <td>Herrsching</td>\n",
       "      <td>47.998577</td>\n",
       "      <td>11.170479</td>\n",
       "    </tr>\n",
       "    <tr>\n",
       "      <th>654</th>\n",
       "      <td>10002</td>\n",
       "      <td>Unterföhring</td>\n",
       "      <td>48.190310</td>\n",
       "      <td>11.646772</td>\n",
       "    </tr>\n",
       "    <tr>\n",
       "      <th>655</th>\n",
       "      <td>2374</td>\n",
       "      <td>Weßling(Oberbay)</td>\n",
       "      <td>48.077374</td>\n",
       "      <td>11.251768</td>\n",
       "    </tr>\n",
       "    <tr>\n",
       "      <th>656</th>\n",
       "      <td>2563</td>\n",
       "      <td>München-Daglfing</td>\n",
       "      <td>48.149624</td>\n",
       "      <td>11.649330</td>\n",
       "    </tr>\n",
       "    <tr>\n",
       "      <th>657</th>\n",
       "      <td>2970</td>\n",
       "      <td>Hallbergmoos</td>\n",
       "      <td>48.309166</td>\n",
       "      <td>11.714334</td>\n",
       "    </tr>\n",
       "  </tbody>\n",
       "</table>\n",
       "<p>658 rows × 4 columns</p>\n",
       "</div>"
      ],
      "text/plain": [
       "     stop_id                       stop_name   stop_lat   stop_lon\n",
       "0        972      München Flughafen Terminal  48.353840  11.786310\n",
       "1      13903  München Flughafen Besucherpark  48.352177  11.764157\n",
       "2       9080            Neufahrn(b Freising)  48.321840  11.661408\n",
       "3       1576                          Eching  48.302876  11.616555\n",
       "4       3263                          Lohhof  48.288300  11.581206\n",
       "..       ...                             ...        ...        ...\n",
       "653     7152                      Herrsching  47.998577  11.170479\n",
       "654    10002                    Unterföhring  48.190310  11.646772\n",
       "655     2374                Weßling(Oberbay)  48.077374  11.251768\n",
       "656     2563                München-Daglfing  48.149624  11.649330\n",
       "657     2970                    Hallbergmoos  48.309166  11.714334\n",
       "\n",
       "[658 rows x 4 columns]"
      ]
     },
     "execution_count": 12,
     "metadata": {},
     "output_type": "execute_result"
    }
   ],
   "source": [
    "stops_sbahn = pd.merge(stop_times_sbahn.loc[:, 'stop_id'].drop_duplicates(), stops, on='stop_id', how='inner')\n",
    "del stops\n",
    "stops_sbahn"
   ]
  },
  {
   "cell_type": "code",
   "execution_count": 13,
   "metadata": {},
   "outputs": [
    {
     "data": {
      "text/plain": [
       "<matplotlib.collections.PathCollection at 0x268d3071660>"
      ]
     },
     "execution_count": 13,
     "metadata": {},
     "output_type": "execute_result"
    },
    {
     "data": {
      "image/png": "[encoded data removed]",
      "text/plain": [
       "<Figure size 432x288 with 1 Axes>"
      ]
     },
     "metadata": {
      "needs_background": "light"
     },
     "output_type": "display_data"
    }
   ],
   "source": [
    "plt.scatter(stops_sbahn['stop_lon'], stops_sbahn['stop_lat'])"
   ]
  },
  {
   "cell_type": "markdown",
   "metadata": {},
   "source": [
    "## Remove trips/routes outside of Munich\n",
    "\n",
    "The dataset contains routes in Nurnbern and Austria, which we want to filter out"
   ]
  },
  {
   "cell_type": "code",
   "execution_count": 14,
   "metadata": {},
   "outputs": [],
   "source": [
    "stops_to_drop = stops_sbahn.loc[(stops_sbahn['stop_lat'] < 47.8) | (stops_sbahn['stop_lat'] > 49)].copy()\n",
    "stops_sbahn.drop(stops_to_drop.index, inplace=True)"
   ]
  },
  {
   "cell_type": "markdown",
   "metadata": {},
   "source": [
    "Now to propagate throughout the other dataframes...  \n",
    "We only wish to keep trips that are exclusively in Munich"
   ]
  },
  {
   "cell_type": "code",
   "execution_count": 15,
   "metadata": {},
   "outputs": [
    {
     "name": "stdout",
     "output_type": "stream",
     "text": [
      "700 trips to be deleted\n"
     ]
    }
   ],
   "source": [
    "trips_to_drop = pd.merge(\n",
    "    stops_to_drop.loc[:, 'stop_id'],\n",
    "    stop_times_sbahn.loc[:, ['stop_id', 'trip_id']],\n",
    "    how='inner',\n",
    "    on='stop_id'\n",
    ").loc[:, 'trip_id'].drop_duplicates()\n",
    "print(len(trips_to_drop.index), 'trips to be deleted')"
   ]
  },
  {
   "cell_type": "code",
   "execution_count": 16,
   "metadata": {},
   "outputs": [],
   "source": [
    "trips_sbahn.drop(trips_sbahn.loc[trips_sbahn['trip_id'].isin(trips_to_drop)].index, inplace=True)"
   ]
  },
  {
   "cell_type": "code",
   "execution_count": 19,
   "metadata": {},
   "outputs": [
    {
     "name": "stdout",
     "output_type": "stream",
     "text": [
      "Removed 55 services\n"
     ]
    }
   ],
   "source": [
    "services_to_keep = trips_sbahn['service_id'].drop_duplicates()\n",
    "print(f'Removed {len(services_to_keep.index)} services')\n",
    "calendar.drop(calendar.loc[~calendar['service_id'].isin(services_to_keep)].index, inplace=True)"
   ]
  },
  {
   "cell_type": "code",
   "execution_count": null,
   "metadata": {},
   "outputs": [],
   "source": [
    "del stops_to_drop\n",
    "del trips_to_drop\n",
    "del services_to_keep"
   ]
  },
  {
   "cell_type": "markdown",
   "metadata": {},
   "source": [
    "# Cluster stops\n",
    "\n",
    "The dataset has multiple entries per station, which is prejudicial for the OMNeT++ configurations."
   ]
  },
  {
   "cell_type": "code",
   "execution_count": null,
   "metadata": {},
   "outputs": [],
   "source": [
    "stops_sbahn[stops_sbahn['stop_name'].str.contains('Laim')]"
   ]
  },
  {
   "cell_type": "markdown",
   "metadata": {},
   "source": [
    "Some station names are weird, so we'll do a first pass and the manually set some names"
   ]
  },
  {
   "cell_type": "code",
   "execution_count": null,
   "metadata": {},
   "outputs": [],
   "source": [
    "stops_sbahn['stop_name'] = stops_sbahn.loc[:, 'stop_name']\\\n",
    "    .str.removeprefix('München')\\\n",
    "    .str.removesuffix('(Oberbay)')\\\n",
    "    .str.strip(' -')"
   ]
  },
  {
   "cell_type": "code",
   "execution_count": null,
   "metadata": {},
   "outputs": [],
   "source": [
    "# Manual overrides of odd station names\n",
    "stops_sbahn.loc[stops_sbahn['stop_name'] == 'Ost', 'stop_name'] = 'Ostbahnhof'\n",
    "stops_sbahn.loc[stops_sbahn['stop_name'] == 'Hbf Gl.27-36', 'stop_name'] = 'Hbf'\n",
    "stops_sbahn.loc[stops_sbahn['stop_name'] == 'Hbf (tief)', 'stop_name'] = 'Hbf'\n",
    "stops_sbahn.loc[stops_sbahn['stop_name'] == 'Schwabhausen(b Dachau)', 'stop_name'] = 'Schwabhausen'\n",
    "stops_sbahn.loc[stops_sbahn['stop_name'] == 'Altomünster, Bahnhof', 'stop_name'] = 'Altomünster'"
   ]
  },
  {
   "cell_type": "code",
   "execution_count": null,
   "metadata": {},
   "outputs": [],
   "source": [
    "CLUSTER_RANGE = 0.0055\n",
    "\n",
    "class Cluster:\n",
    "    def __init__(self) -> None:\n",
    "        self.name = None\n",
    "        self.id = -1\n",
    "        self.lon = 0\n",
    "        self.lat = 0\n",
    "        self.stop_ids = set()\n",
    "    \n",
    "    def belongs(self, row: pd.Series):\n",
    "        if self.name == 'Baierbrunn' and row['stop_name'] == 'Baierbrunn':\n",
    "            return True\n",
    "\n",
    "        return abs(self.lon - row['stop_lon']) <= CLUSTER_RANGE \\\n",
    "            and abs(self.lat - row['stop_lat']) <= CLUSTER_RANGE\n",
    "\n",
    "    def add(self, index: int, row: pd.Series) -> None:\n",
    "        n_members = len(self.stop_ids)\n",
    "\n",
    "        self.lon = ((self.lon * n_members) + row['stop_lon']) / (n_members + 1)\n",
    "        self.lat = ((self.lat * n_members) + row['stop_lat']) / (n_members + 1)\n",
    "\n",
    "        name = row['stop_name']\n",
    "        if self.name == None:\n",
    "            self.id = index\n",
    "            self.name = name\n",
    "        elif self.name != name:\n",
    "            print(f'Conflicting stop names \"{name}\" [{index}]  and \"{self.name}\" [{self.id}]')\n",
    "\n",
    "        self.stop_ids.add(index)\n",
    "    \n",
    "    def get_dict(self) -> dict:\n",
    "        d = { self.id: self.id }\n",
    "        for stop in self.stop_ids:\n",
    "            d[stop] = self.id\n",
    "        return d"
   ]
  },
  {
   "cell_type": "code",
   "execution_count": null,
   "metadata": {},
   "outputs": [],
   "source": [
    "st = stops_sbahn.set_index('stop_id')\n",
    "\n",
    "clusters = []\n",
    "for index, row in st.iterrows():\n",
    "\n",
    "    cluster = None\n",
    "    # Try to find match in existing cluster    \n",
    "    for c in clusters:\n",
    "        if c.belongs(row):\n",
    "            if cluster == None:\n",
    "                if c.name == row['stop_name']:\n",
    "                    cluster = c\n",
    "                else:\n",
    "                    print(f'\"{row[\"stop_name\"]}\" Joined cluster: \"{c.name}\"')\n",
    "            else:\n",
    "                if row['stop_name'] == c.name:\n",
    "                    cluster = c\n",
    "                elif row['stop_name'] == cluster.name:\n",
    "                    cluster = cluster\n",
    "                else:\n",
    "                    print(f'\"{row[\"stop_name\"]}\" Could fit multiple clusters: \"{c.name}\" and \"{cluster.name}\"')\n",
    "\n",
    " \n",
    "    # If no cluster found, create another\n",
    "    if cluster == None:\n",
    "        cluster = Cluster()\n",
    "        clusters.append(cluster)\n",
    "    \n",
    "    cluster.add(index, row)\n",
    "\n",
    "# Create map of old -> new keys\n",
    "# Build new dataframe from clusters\n",
    "stop_update_map = dict()\n",
    "data = []\n",
    "for c in clusters:\n",
    "    stop_update_map.update(c.get_dict())\n",
    "    data.append((c.id, c.name, c.lon, c.lat))\n",
    "stops_sbahn = pd.DataFrame(data=data, columns=['stop_id', 'stop_name', 'stop_lon', 'stop_lat'])\n",
    "\n",
    "del st\n",
    "\n",
    "print(f'Clustering resulted in {len(stops_sbahn.index)} stops')"
   ]
  },
  {
   "cell_type": "markdown",
   "metadata": {},
   "source": [
    "## Resulting München map"
   ]
  },
  {
   "cell_type": "code",
   "execution_count": null,
   "metadata": {},
   "outputs": [],
   "source": [
    "plt.plot(stops_sbahn['stop_lon'], stops_sbahn['stop_lat'], ls='', marker='.')\n",
    "\n",
    "for _, row in stops_sbahn.iterrows():\n",
    "    x = row['stop_lon']\n",
    "    y = row['stop_lat']\n",
    "    plt.text(x * (1 + 0.0001), y * (1 + 0.0001) , row['stop_name'], fontsize=6)"
   ]
  },
  {
   "cell_type": "markdown",
   "metadata": {},
   "source": [
    "### Propagate the new clusters to the stop_times dataframe"
   ]
  },
  {
   "cell_type": "code",
   "execution_count": null,
   "metadata": {},
   "outputs": [],
   "source": [
    "for old, new in stop_update_map.items():\n",
    "    if old != new:\n",
    "        stop_times_sbahn.loc[stop_times_sbahn['stop_id'] == old, 'stop_id'] = new\n",
    "del stop_update_map"
   ]
  },
  {
   "cell_type": "markdown",
   "metadata": {},
   "source": [
    "# Export the data back out"
   ]
  },
  {
   "cell_type": "code",
   "execution_count": null,
   "metadata": {},
   "outputs": [],
   "source": [
    "os.makedirs(DEST_DIR, exist_ok=True)\n",
    "\n",
    "stops_sbahn.to_csv(os.path.join(DEST_DIR, 'stops.txt'), index=False, float_format=\"%.6f\")\n",
    "stop_times_sbahn.to_csv(os.path.join(DEST_DIR, 'stop_times.txt'), index=False)\n",
    "trips_sbahn.to_csv(os.path.join(DEST_DIR, 'trips.txt'), index=False)\n",
    "routes_sbahn.to_csv(os.path.join(DEST_DIR, 'routes.txt'), index=False)\n",
    "calendar.to_csv(os.path.join(DEST_DIR, 'calendar.txt'), index=False)"
   ]
  },
  {
   "cell_type": "code",
   "execution_count": null,
   "metadata": {},
   "outputs": [],
   "source": [
    "shutil.copy(src=os.path.join(SRC_DIR, 'calendar_dates.txt'),\n",
    "    dst=os.path.join(DEST_DIR, 'calendar_dates.txt'));"
   ]
  },
  {
   "cell_type": "code",
   "execution_count": null,
   "metadata": {},
   "outputs": [],
   "source": []
  }
 ],
 "metadata": {
  "kernelspec": {
   "display_name": "Python 3.10.0 64-bit",
   "language": "python",
   "name": "python3"
  },
  "language_info": {
   "codemirror_mode": {
    "name": "ipython",
    "version": 3
   },
   "file_extension": ".py",
   "mimetype": "text/x-python",
   "name": "python",
   "nbconvert_exporter": "python",
   "pygments_lexer": "ipython3",
   "version": "3.10.0"
  },
  "orig_nbformat": 4,
  "vscode": {
   "interpreter": {
    "hash": "369f2c481f4da34e4445cda3fffd2e751bd1c4d706f27375911949ba6bb62e1c"
   }
  }
 },
 "nbformat": 4,
 "nbformat_minor": 2
}
